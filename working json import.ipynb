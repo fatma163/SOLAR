{
 "cells": [
  {
   "cell_type": "code",
   "execution_count": null,
   "metadata": {},
   "outputs": [],
   "source": []
  },
  {
   "cell_type": "code",
   "execution_count": 7,
   "metadata": {},
   "outputs": [],
   "source": [
    "#start de imports (database, tekenen en modelleren van info)\n",
    "import pandas as pd\n",
    "import matplotlib.pyplot as plt\n",
    "import seaborn as sns\n",
    "sns.set(style=\"darkgrid\")"
   ]
  },
  {
   "cell_type": "code",
   "execution_count": 8,
   "metadata": {},
   "outputs": [],
   "source": [
    "#handleiding, geen functie denk ik\n",
    "import os\n",
    "os.environ[\"PATH\"]=os.environ[\"PATH\"] + \":/usr/local/bin\""
   ]
  },
  {
   "cell_type": "code",
   "execution_count": 9,
   "metadata": {},
   "outputs": [],
   "source": [
    "#uiterst belangrijk. de omdracht om ding te doen. het pad vinden was ff lastig\n",
    "df = pd.read_json('/home/jovyan/demo/data/mydata1.json')"
   ]
  },
  {
   "cell_type": "code",
   "execution_count": 2,
   "metadata": {},
   "outputs": [
    {
     "name": "stdout",
     "output_type": "stream",
     "text": [
      "/home/jovyan/demo\n"
     ]
    }
   ],
   "source": [
    "#oh! dus zo vind je het pad naar de file!\n",
    "!pwd"
   ]
  },
  {
   "cell_type": "code",
   "execution_count": 44,
   "metadata": {},
   "outputs": [
    {
     "data": {
      "text/html": [
       "<div>\n",
       "<style scoped>\n",
       "    .dataframe tbody tr th:only-of-type {\n",
       "        vertical-align: middle;\n",
       "    }\n",
       "\n",
       "    .dataframe tbody tr th {\n",
       "        vertical-align: top;\n",
       "    }\n",
       "\n",
       "    .dataframe thead th {\n",
       "        text-align: right;\n",
       "    }\n",
       "</style>\n",
       "<table border=\"1\" class=\"dataframe\">\n",
       "  <thead>\n",
       "    <tr style=\"text-align: right;\">\n",
       "      <th></th>\n",
       "      <th>As of Date</th>\n",
       "      <th>Data</th>\n",
       "    </tr>\n",
       "  </thead>\n",
       "  <tbody>\n",
       "    <tr>\n",
       "      <th>0</th>\n",
       "      <td>2019-09-30</td>\n",
       "      <td>{'Data Provider': 'Administration Wing, Chief Secretary for Administration's Office', 'Category': 'Miscellaneous', 'Collection of Datasets': 'Disaster Relie...</td>\n",
       "    </tr>\n",
       "    <tr>\n",
       "      <th>1</th>\n",
       "      <td>2019-09-30</td>\n",
       "      <td>{'Data Provider': 'Agriculture, Fisheries and Conservation Department', 'Category': 'Recreation and Culture', 'Collection of Datasets': 'Checklist of Biodiv...</td>\n",
       "    </tr>\n",
       "    <tr>\n",
       "      <th>2</th>\n",
       "      <td>2019-09-30</td>\n",
       "      <td>{'Data Provider': 'Agriculture, Fisheries and Conservation Department', 'Category': 'Recreation and Culture', 'Collection of Datasets': 'Country Parks and M...</td>\n",
       "    </tr>\n",
       "    <tr>\n",
       "      <th>3</th>\n",
       "      <td>2019-09-30</td>\n",
       "      <td>{'Data Provider': 'Agriculture, Fisheries and Conservation Department', 'Category': 'Recreation and Culture', 'Collection of Datasets': 'Distance Posts of C...</td>\n",
       "    </tr>\n",
       "    <tr>\n",
       "      <th>4</th>\n",
       "      <td>2019-09-30</td>\n",
       "      <td>{'Data Provider': 'Agriculture, Fisheries and Conservation Department', 'Category': 'Recreation and Culture', 'Collection of Datasets': 'Distance Posts of t...</td>\n",
       "    </tr>\n",
       "    <tr>\n",
       "      <th>5</th>\n",
       "      <td>2019-09-30</td>\n",
       "      <td>{'Data Provider': 'Agriculture, Fisheries and Conservation Department', 'Category': 'Food', 'Collection of Datasets': 'Pesticides Licensee List - Part I', '...</td>\n",
       "    </tr>\n",
       "    <tr>\n",
       "      <th>6</th>\n",
       "      <td>2019-09-30</td>\n",
       "      <td>{'Data Provider': 'Agriculture, Fisheries and Conservation Department', 'Category': 'Food', 'Collection of Datasets': 'Pesticides Licensee List - Part II', ...</td>\n",
       "    </tr>\n",
       "    <tr>\n",
       "      <th>7</th>\n",
       "      <td>2019-09-30</td>\n",
       "      <td>{'Data Provider': 'Agriculture, Fisheries and Conservation Department', 'Category': 'Recreation and Culture', 'Collection of Datasets': 'Position of Country...</td>\n",
       "    </tr>\n",
       "    <tr>\n",
       "      <th>8</th>\n",
       "      <td>2019-09-30</td>\n",
       "      <td>{'Data Provider': 'Agriculture, Fisheries and Conservation Department', 'Category': 'Food', 'Collection of Datasets': 'Registered Pesticides List - Part I',...</td>\n",
       "    </tr>\n",
       "  </tbody>\n",
       "</table>\n",
       "</div>"
      ],
      "text/plain": [
       "   As of Date  \\\n",
       "0  2019-09-30   \n",
       "1  2019-09-30   \n",
       "2  2019-09-30   \n",
       "3  2019-09-30   \n",
       "4  2019-09-30   \n",
       "5  2019-09-30   \n",
       "6  2019-09-30   \n",
       "7  2019-09-30   \n",
       "8  2019-09-30   \n",
       "\n",
       "                                                                                                                                                              Data  \n",
       "0  {'Data Provider': 'Administration Wing, Chief Secretary for Administration's Office', 'Category': 'Miscellaneous', 'Collection of Datasets': 'Disaster Relie...  \n",
       "1  {'Data Provider': 'Agriculture, Fisheries and Conservation Department', 'Category': 'Recreation and Culture', 'Collection of Datasets': 'Checklist of Biodiv...  \n",
       "2  {'Data Provider': 'Agriculture, Fisheries and Conservation Department', 'Category': 'Recreation and Culture', 'Collection of Datasets': 'Country Parks and M...  \n",
       "3  {'Data Provider': 'Agriculture, Fisheries and Conservation Department', 'Category': 'Recreation and Culture', 'Collection of Datasets': 'Distance Posts of C...  \n",
       "4  {'Data Provider': 'Agriculture, Fisheries and Conservation Department', 'Category': 'Recreation and Culture', 'Collection of Datasets': 'Distance Posts of t...  \n",
       "5  {'Data Provider': 'Agriculture, Fisheries and Conservation Department', 'Category': 'Food', 'Collection of Datasets': 'Pesticides Licensee List - Part I', '...  \n",
       "6  {'Data Provider': 'Agriculture, Fisheries and Conservation Department', 'Category': 'Food', 'Collection of Datasets': 'Pesticides Licensee List - Part II', ...  \n",
       "7  {'Data Provider': 'Agriculture, Fisheries and Conservation Department', 'Category': 'Recreation and Culture', 'Collection of Datasets': 'Position of Country...  \n",
       "8  {'Data Provider': 'Agriculture, Fisheries and Conservation Department', 'Category': 'Food', 'Collection of Datasets': 'Registered Pesticides List - Part I',...  "
      ]
     },
     "execution_count": 44,
     "metadata": {},
     "output_type": "execute_result"
    }
   ],
   "source": [
    "#Hoe krijg ik iets te zien?\n",
    "#df = pd.mydata.json('mydata.json')\n",
    "city_env = pd.read_json('/home/jovyan/demo/data/mydata1.json', orient='columns')\n",
    "city_env"
   ]
  },
  {
   "cell_type": "code",
   "execution_count": 83,
   "metadata": {},
   "outputs": [
    {
     "data": {
      "text/plain": [
       "0   2019-09-30\n",
       "1   2019-09-30\n",
       "2   2019-09-30\n",
       "3   2019-09-30\n",
       "4   2019-09-30\n",
       "5   2019-09-30\n",
       "6   2019-09-30\n",
       "7   2019-09-30\n",
       "8   2019-09-30\n",
       "dtype: datetime64[ns]"
      ]
     },
     "execution_count": 83,
     "metadata": {},
     "output_type": "execute_result"
    }
   ],
   "source": [
    "#waarom zeurt ie over een index als ik een drill down wil doen? oplossing typ = 'series' \n",
    "As_of_Date = pd.read_json( (city_env['As of Date']).to_json(), typ='series' )\n",
    "As_of_Date"
   ]
  },
  {
   "cell_type": "code",
   "execution_count": null,
   "metadata": {},
   "outputs": [],
   "source": [
    "# ik mis data\n",
    "# heb wel een dataframe gemaakt (zie eind)\n",
    "import numpy as np\n",
    "import pandas as pd\n",
    "import seaborn as sns\n",
    "import matplotlib as plt\n",
    "import json\n",
    "%matplotlib inline\n",
    "import os\n",
    "os.environ[\"PATH\"]=os.environ[\"PATH\"] + \":/usr/local/bin\"\n",
    "\n",
    "with open('/home/jovyan/demo/data/mydata1.json') as datafile:\n",
    "  data = json.load(datafile)\n",
    "dataframe = pd.DataFrame(data)"
   ]
  },
  {
   "cell_type": "code",
   "execution_count": null,
   "metadata": {},
   "outputs": [],
   "source": []
  },
  {
   "cell_type": "code",
   "execution_count": null,
   "metadata": {},
   "outputs": [],
   "source": []
  },
  {
   "cell_type": "code",
   "execution_count": 35,
   "metadata": {},
   "outputs": [
    {
     "name": "stdout",
     "output_type": "stream",
     "text": [
      "Mongo version 3.9.0\n",
      "Database name: jovyan-demodb\n"
     ]
    },
    {
     "data": {
      "text/plain": [
       "32512"
      ]
     },
     "execution_count": 35,
     "metadata": {},
     "output_type": "execute_result"
    }
   ],
   "source": [
    "# handleiding.  mongodb kan ik niet toepassen omdat ik de \"collections\" mis (de naam er van).\n",
    "# die staan op de server. dit is niet mijn server, dus ik kan het niet zien.\n",
    "# dat is wat we op de vrijdagen leren\n",
    "import os\n",
    "import re\n",
    "import pandas as pd\n",
    "import numpy as np\n",
    "from IPython.core.display import display, HTML\n",
    "import pymongo\n",
    "\n",
    "print('Mongo version', pymongo.__version__)\n",
    "\n",
    "pd.set_option('max_colwidth',160)\n",
    "\n",
    "userline = !echo $USER\n",
    "username = userline[0]\n",
    "dbname = username + \"-demodb\"\n",
    "print(\"Database name: \" + dbname)\n",
    "\n",
    "client = pymongo.MongoClient('localhost', 27017)\n",
    "db = [dbname]\n",
    "\n",
    "os.system('mongoimport -d ' + dbname + ' -c contacts mydata1.json')"
   ]
  },
  {
   "cell_type": "code",
   "execution_count": 14,
   "metadata": {},
   "outputs": [
    {
     "name": "stdout",
     "output_type": "stream",
     "text": [
      "Requirement already satisfied: pymongo in /srv/conda/envs/notebook/lib/python3.7/site-packages (3.9.0)\n",
      "Note: you may need to restart the kernel to use updated packages.\n"
     ]
    }
   ],
   "source": [
    "#oh ja de eerste keer had ik nog geen mongodb\n",
    "#gelukkig heeft ie \"pip\" (een alles-gaat-vanzelf installatieprogramma op zn server staan)\n",
    "pip install pymongo"
   ]
  },
  {
   "cell_type": "code",
   "execution_count": 42,
   "metadata": {},
   "outputs": [
    {
     "ename": "NameError",
     "evalue": "name 'find' is not defined",
     "output_type": "error",
     "traceback": [
      "\u001b[0;31m---------------------------------------------------------------------------\u001b[0m",
      "\u001b[0;31mNameError\u001b[0m                                 Traceback (most recent call last)",
      "\u001b[0;32m<ipython-input-42-427c992e3d04>\u001b[0m in \u001b[0;36m<module>\u001b[0;34m\u001b[0m\n\u001b[0;32m----> 1\u001b[0;31m \u001b[0mcursor\u001b[0m \u001b[0;34m=\u001b[0m \u001b[0mfind\u001b[0m\u001b[0;34m(\u001b[0m\u001b[0;34m{\u001b[0m\u001b[0;34m\"Data Provider\"\u001b[0m\u001b[0;34m:\u001b[0m \u001b[0;34m\"Administration Wing, Chief Secretary for Administration's Office\"\u001b[0m\u001b[0;34m}\u001b[0m\u001b[0;34m)\u001b[0m\u001b[0;34m\u001b[0m\u001b[0;34m\u001b[0m\u001b[0m\n\u001b[0m\u001b[1;32m      2\u001b[0m \u001b[0;32mfor\u001b[0m \u001b[0mobj\u001b[0m \u001b[0;32min\u001b[0m \u001b[0mcursor\u001b[0m\u001b[0;34m:\u001b[0m\u001b[0;34m\u001b[0m\u001b[0;34m\u001b[0m\u001b[0m\n\u001b[1;32m      3\u001b[0m     \u001b[0mprint\u001b[0m\u001b[0;34m(\u001b[0m\u001b[0mobj\u001b[0m\u001b[0;34m)\u001b[0m\u001b[0;34m\u001b[0m\u001b[0;34m\u001b[0m\u001b[0m\n",
      "\u001b[0;31mNameError\u001b[0m: name 'find' is not defined"
     ]
    }
   ],
   "source": [
    "#mongodb heb ik dus niet werkend, want hoewel geinstalleerd weet ik de naam van de collection niet.\n",
    "cursor = find({\"Data Provider\": \"Administration Wing, Chief Secretary for Administration's Office\"})\n",
    "for obj in cursor:\n",
    "    print(obj)"
   ]
  },
  {
   "cell_type": "code",
   "execution_count": 94,
   "metadata": {},
   "outputs": [
    {
     "ename": "NameError",
     "evalue": "name 'collection' is not defined",
     "output_type": "error",
     "traceback": [
      "\u001b[0;31m---------------------------------------------------------------------------\u001b[0m",
      "\u001b[0;31mNameError\u001b[0m                                 Traceback (most recent call last)",
      "\u001b[0;32m<ipython-input-94-8b91be285fe0>\u001b[0m in \u001b[0;36m<module>\u001b[0;34m\u001b[0m\n\u001b[0;32m----> 1\u001b[0;31m \u001b[0mcursor\u001b[0m \u001b[0;34m=\u001b[0m \u001b[0mcollection\u001b[0m\u001b[0;34m.\u001b[0m\u001b[0mfind\u001b[0m\u001b[0;34m(\u001b[0m\u001b[0;34m)\u001b[0m\u001b[0;34m\u001b[0m\u001b[0;34m\u001b[0m\u001b[0m\n\u001b[0m\u001b[1;32m      2\u001b[0m \u001b[0;32mfor\u001b[0m \u001b[0mobj\u001b[0m \u001b[0;32min\u001b[0m \u001b[0mcursor\u001b[0m\u001b[0;34m:\u001b[0m\u001b[0;34m\u001b[0m\u001b[0;34m\u001b[0m\u001b[0m\n\u001b[1;32m      3\u001b[0m     \u001b[0mprint\u001b[0m\u001b[0;34m(\u001b[0m\u001b[0mobj\u001b[0m\u001b[0;34m[\u001b[0m\u001b[0;34m\"As_of_Date\"\u001b[0m\u001b[0;34m]\u001b[0m\u001b[0;34m)\u001b[0m\u001b[0;34m\u001b[0m\u001b[0;34m\u001b[0m\u001b[0m\n\u001b[1;32m      4\u001b[0m     \u001b[0mprint\u001b[0m\u001b[0;34m(\u001b[0m\u001b[0mobj\u001b[0m\u001b[0;34m)\u001b[0m\u001b[0;34m\u001b[0m\u001b[0;34m\u001b[0m\u001b[0m\n",
      "\u001b[0;31mNameError\u001b[0m: name 'collection' is not defined"
     ]
    }
   ],
   "source": [
    "#nee de collection kan ik nog niet bij\n",
    "cursor = collection.find()\n",
    "for obj in cursor:\n",
    "    print(obj[\"As_of_Date\"])\n",
    "    print(obj)"
   ]
  },
  {
   "cell_type": "code",
   "execution_count": 89,
   "metadata": {},
   "outputs": [],
   "source": [
    "# je had 1 taak.. ahem ik kan de db wel weergeven\n",
    "pd.set_option('display.expand_frame_repr', False)"
   ]
  },
  {
   "cell_type": "code",
   "execution_count": 93,
   "metadata": {},
   "outputs": [
    {
     "name": "stdout",
     "output_type": "stream",
     "text": [
      "                                                                                                                                                                      count\n",
      "As of Date                                                                                                                                                       2019-09-30\n",
      "Data        [{'Data Provider': 'Administration Wing, Chief Secretary for Administration's Office', 'Category': 'Miscellaneous', 'Collection of Datasets': 'Disaster Reli...\n"
     ]
    }
   ],
   "source": [
    "# dus dit is net zo slordig als de json via de browser\n",
    "with pd.option_context('display.max_rows', 5, 'display.max_columns', 5):\n",
    "    print (df)"
   ]
  },
  {
   "cell_type": "code",
   "execution_count": null,
   "metadata": {},
   "outputs": [],
   "source": []
  },
  {
   "cell_type": "code",
   "execution_count": 97,
   "metadata": {},
   "outputs": [
    {
     "data": {
      "text/html": [
       "<div>\n",
       "<style scoped>\n",
       "    .dataframe tbody tr th:only-of-type {\n",
       "        vertical-align: middle;\n",
       "    }\n",
       "\n",
       "    .dataframe tbody tr th {\n",
       "        vertical-align: top;\n",
       "    }\n",
       "\n",
       "    .dataframe thead th {\n",
       "        text-align: right;\n",
       "    }\n",
       "</style>\n",
       "<table border=\"1\" class=\"dataframe\">\n",
       "  <thead>\n",
       "    <tr style=\"text-align: right;\">\n",
       "      <th></th>\n",
       "      <th>0</th>\n",
       "      <th>1</th>\n",
       "      <th>2</th>\n",
       "      <th>3</th>\n",
       "      <th>4</th>\n",
       "      <th>5</th>\n",
       "      <th>6</th>\n",
       "      <th>7</th>\n",
       "      <th>8</th>\n",
       "    </tr>\n",
       "  </thead>\n",
       "  <tbody>\n",
       "    <tr>\n",
       "      <th>Category</th>\n",
       "      <td>Miscellaneous</td>\n",
       "      <td>Recreation and Culture</td>\n",
       "      <td>Recreation and Culture</td>\n",
       "      <td>Recreation and Culture</td>\n",
       "      <td>Recreation and Culture</td>\n",
       "      <td>Food</td>\n",
       "      <td>Food</td>\n",
       "      <td>Recreation and Culture</td>\n",
       "      <td>Food</td>\n",
       "    </tr>\n",
       "    <tr>\n",
       "      <th>Collection of Datasets</th>\n",
       "      <td>Disaster Relief Fund Approved Grants</td>\n",
       "      <td>Checklist of Biodiversity of Hong Kong</td>\n",
       "      <td>Country Parks and Marine Parks Statistic</td>\n",
       "      <td>Distance Posts of Country Trails</td>\n",
       "      <td>Distance Posts of tree walks</td>\n",
       "      <td>Pesticides Licensee List - Part I</td>\n",
       "      <td>Pesticides Licensee List - Part II</td>\n",
       "      <td>Position of Country Park Water Drinking Fountain or Water Dispenser for General Public</td>\n",
       "      <td>Registered Pesticides List - Part I</td>\n",
       "    </tr>\n",
       "    <tr>\n",
       "      <th>Data Format</th>\n",
       "      <td>CSV</td>\n",
       "      <td>CSV</td>\n",
       "      <td>CSV</td>\n",
       "      <td>CSV</td>\n",
       "      <td>CSV</td>\n",
       "      <td>CSV</td>\n",
       "      <td>CSV</td>\n",
       "      <td>CSV</td>\n",
       "      <td>CSV</td>\n",
       "    </tr>\n",
       "    <tr>\n",
       "      <th>Data Provider</th>\n",
       "      <td>Administration Wing, Chief Secretary for Administration's Office</td>\n",
       "      <td>Agriculture, Fisheries and Conservation Department</td>\n",
       "      <td>Agriculture, Fisheries and Conservation Department</td>\n",
       "      <td>Agriculture, Fisheries and Conservation Department</td>\n",
       "      <td>Agriculture, Fisheries and Conservation Department</td>\n",
       "      <td>Agriculture, Fisheries and Conservation Department</td>\n",
       "      <td>Agriculture, Fisheries and Conservation Department</td>\n",
       "      <td>Agriculture, Fisheries and Conservation Department</td>\n",
       "      <td>Agriculture, Fisheries and Conservation Department</td>\n",
       "    </tr>\n",
       "    <tr>\n",
       "      <th>Name of Dataset</th>\n",
       "      <td>Disaster Relief Fund Approved Grants</td>\n",
       "      <td>Checklist of Biodiversity of Hong Kong</td>\n",
       "      <td>Country Parks and Marine Parks Statistic</td>\n",
       "      <td>Distance Posts of Country Trails</td>\n",
       "      <td>Distance Posts of  tree walks</td>\n",
       "      <td>Pesticides Licensee List - Part I</td>\n",
       "      <td>Pesticides Licensee List - Part II</td>\n",
       "      <td>Position of Country Park Water Drinking Fountain or Water Dispenser for General Public</td>\n",
       "      <td>Part I of registered pesticides</td>\n",
       "    </tr>\n",
       "  </tbody>\n",
       "</table>\n",
       "</div>"
      ],
      "text/plain": [
       "                                                                                       0                                                   1                                                   2                                                   3                                                   4                                                   5                                                   6                                                                                       7                                                   8\n",
       "Category                                                                   Miscellaneous                              Recreation and Culture                              Recreation and Culture                              Recreation and Culture                              Recreation and Culture                                                Food                                                Food                                                                  Recreation and Culture                                                Food\n",
       "Collection of Datasets                              Disaster Relief Fund Approved Grants              Checklist of Biodiversity of Hong Kong            Country Parks and Marine Parks Statistic                    Distance Posts of Country Trails                        Distance Posts of tree walks                   Pesticides Licensee List - Part I                  Pesticides Licensee List - Part II  Position of Country Park Water Drinking Fountain or Water Dispenser for General Public                 Registered Pesticides List - Part I\n",
       "Data Format                                                                          CSV                                                 CSV                                                 CSV                                                 CSV                                                 CSV                                                 CSV                                                 CSV                                                                                     CSV                                                 CSV\n",
       "Data Provider           Administration Wing, Chief Secretary for Administration's Office  Agriculture, Fisheries and Conservation Department  Agriculture, Fisheries and Conservation Department  Agriculture, Fisheries and Conservation Department  Agriculture, Fisheries and Conservation Department  Agriculture, Fisheries and Conservation Department  Agriculture, Fisheries and Conservation Department                                      Agriculture, Fisheries and Conservation Department  Agriculture, Fisheries and Conservation Department\n",
       "Name of Dataset                                     Disaster Relief Fund Approved Grants              Checklist of Biodiversity of Hong Kong            Country Parks and Marine Parks Statistic                    Distance Posts of Country Trails                       Distance Posts of  tree walks                   Pesticides Licensee List - Part I                  Pesticides Licensee List - Part II  Position of Country Park Water Drinking Fountain or Water Dispenser for General Public                     Part I of registered pesticides"
      ]
     },
     "execution_count": 97,
     "metadata": {},
     "output_type": "execute_result"
    }
   ],
   "source": [
    "# ok. een gestructureerde weergave. schijnt dat je ook kunt tekenen.\n",
    "Data = pd.read_json( (city_env['Data']).to_json(), orient=('columns') )\n",
    "Data"
   ]
  },
  {
   "cell_type": "code",
   "execution_count": 85,
   "metadata": {},
   "outputs": [],
   "source": [
    "# dit werkte niet\n",
    "import json\n",
    "with open('/home/jovyan/demo/data/mydata1.json', 'r') as f:\n",
    "    data = json.load(f)"
   ]
  },
  {
   "cell_type": "code",
   "execution_count": 86,
   "metadata": {},
   "outputs": [],
   "source": [
    "# next step is om de dataframe als tekening te laten genereren\n",
    "df = pd.DataFrame({'count': data})"
   ]
  },
  {
   "cell_type": "code",
   "execution_count": null,
   "metadata": {},
   "outputs": [],
   "source": [
    "# next step is de volledige file via https://jsonformatter.curiousconcept.com/ te valideren \n",
    "# en in te laden\n"
   ]
  },
  {
   "cell_type": "code",
   "execution_count": null,
   "metadata": {},
   "outputs": [],
   "source": []
  }
 ],
 "metadata": {
  "kernelspec": {
   "display_name": "Python 3",
   "language": "python",
   "name": "python3"
  },
  "language_info": {
   "codemirror_mode": {
    "name": "ipython",
    "version": 3
   },
   "file_extension": ".py",
   "mimetype": "text/x-python",
   "name": "python",
   "nbconvert_exporter": "python",
   "pygments_lexer": "ipython3",
   "version": "3.7.3"
  }
 },
 "nbformat": 4,
 "nbformat_minor": 4
}
